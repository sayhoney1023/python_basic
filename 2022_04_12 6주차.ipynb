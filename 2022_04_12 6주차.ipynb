{
 "cells": [
  {
   "cell_type": "code",
   "execution_count": 1,
   "id": "0b2813d1",
   "metadata": {},
   "outputs": [
    {
     "name": "stdout",
     "output_type": "stream",
     "text": [
      "10\n",
      "20\n"
     ]
    }
   ],
   "source": [
    "a= [10,20,30,40,50,60]\n",
    "print(a[0])\n",
    "print(a[1])\n"
   ]
  },
  {
   "cell_type": "code",
   "execution_count": 2,
   "id": "612ac24e",
   "metadata": {},
   "outputs": [
    {
     "name": "stdout",
     "output_type": "stream",
     "text": [
      "[30, 40, 50]\n"
     ]
    }
   ],
   "source": [
    "print(a[2:5])\n"
   ]
  },
  {
   "cell_type": "code",
   "execution_count": 3,
   "id": "fc85e99c",
   "metadata": {},
   "outputs": [
    {
     "name": "stdout",
     "output_type": "stream",
     "text": [
      "[4, 5, 6, 7, 8]\n"
     ]
    }
   ],
   "source": [
    "a=[1,2,3,4,5,6,7,8,9]\n",
    "print(a[3:8])\n"
   ]
  },
  {
   "cell_type": "code",
   "execution_count": 4,
   "id": "6d3853aa",
   "metadata": {},
   "outputs": [
    {
     "data": {
      "text/plain": [
       "[1, 2, 3, 4, 5, 6, 7, 8, 9]"
      ]
     },
     "execution_count": 4,
     "metadata": {},
     "output_type": "execute_result"
    }
   ],
   "source": [
    "a[:]"
   ]
  },
  {
   "cell_type": "code",
   "execution_count": 7,
   "id": "cbc28912",
   "metadata": {},
   "outputs": [
    {
     "data": {
      "text/plain": [
       "[3, 5, 7]"
      ]
     },
     "execution_count": 7,
     "metadata": {},
     "output_type": "execute_result"
    }
   ],
   "source": [
    "a[2:8:2]\n"
   ]
  },
  {
   "cell_type": "code",
   "execution_count": 9,
   "id": "a62b6479",
   "metadata": {},
   "outputs": [
    {
     "name": "stdout",
     "output_type": "stream",
     "text": [
      "['orange', 'apple', 'grape', 'mango']\n"
     ]
    }
   ],
   "source": [
    "juice = [\"orange\",\"apple\",\"grape\"]\n",
    "juice.append(\"mango\")\n",
    "print(juice)"
   ]
  },
  {
   "cell_type": "code",
   "execution_count": 10,
   "id": "de6c280d",
   "metadata": {},
   "outputs": [
    {
     "data": {
      "text/plain": [
       "4"
      ]
     },
     "execution_count": 10,
     "metadata": {},
     "output_type": "execute_result"
    }
   ],
   "source": [
    "len(juice)"
   ]
  },
  {
   "cell_type": "code",
   "execution_count": 11,
   "id": "bdbe4ebd",
   "metadata": {},
   "outputs": [],
   "source": [
    "juice.insert(1,\"watermelon\")"
   ]
  },
  {
   "cell_type": "code",
   "execution_count": 12,
   "id": "23cfaebe",
   "metadata": {},
   "outputs": [
    {
     "name": "stdout",
     "output_type": "stream",
     "text": [
      "['orange', 'watermelon', 'apple', 'grape', 'mango']\n"
     ]
    }
   ],
   "source": [
    "print(juice)"
   ]
  },
  {
   "cell_type": "code",
   "execution_count": 13,
   "id": "80b59cd1",
   "metadata": {},
   "outputs": [
    {
     "data": {
      "text/plain": [
       "['orange', 'watermelon', 'apple', 'grape']"
      ]
     },
     "execution_count": 13,
     "metadata": {},
     "output_type": "execute_result"
    }
   ],
   "source": [
    "del juice[4]\n",
    "juice"
   ]
  },
  {
   "cell_type": "code",
   "execution_count": 14,
   "id": "0644fc46",
   "metadata": {},
   "outputs": [
    {
     "data": {
      "text/plain": [
       "'grape'"
      ]
     },
     "execution_count": 14,
     "metadata": {},
     "output_type": "execute_result"
    }
   ],
   "source": [
    "juice.pop()"
   ]
  },
  {
   "cell_type": "code",
   "execution_count": 15,
   "id": "833f340e",
   "metadata": {},
   "outputs": [
    {
     "data": {
      "text/plain": [
       "['orange', 'watermelon', 'apple']"
      ]
     },
     "execution_count": 15,
     "metadata": {},
     "output_type": "execute_result"
    }
   ],
   "source": [
    "juice"
   ]
  },
  {
   "cell_type": "code",
   "execution_count": 16,
   "id": "886980f2",
   "metadata": {},
   "outputs": [
    {
     "data": {
      "text/plain": [
       "['orange', 'apple']"
      ]
     },
     "execution_count": 16,
     "metadata": {},
     "output_type": "execute_result"
    }
   ],
   "source": [
    "juice.pop(1)\n",
    "juice"
   ]
  },
  {
   "cell_type": "code",
   "execution_count": 17,
   "id": "efc3334b",
   "metadata": {},
   "outputs": [],
   "source": [
    "juice.remove(\"orange\")\n"
   ]
  },
  {
   "cell_type": "code",
   "execution_count": 18,
   "id": "b47fa667",
   "metadata": {},
   "outputs": [
    {
     "name": "stdout",
     "output_type": "stream",
     "text": [
      "['apple']\n"
     ]
    }
   ],
   "source": [
    "print(juice)"
   ]
  },
  {
   "cell_type": "code",
   "execution_count": 19,
   "id": "f748251c",
   "metadata": {},
   "outputs": [],
   "source": [
    "juice.clear()"
   ]
  },
  {
   "cell_type": "code",
   "execution_count": 20,
   "id": "d9a373dd",
   "metadata": {},
   "outputs": [
    {
     "data": {
      "text/plain": [
       "[]"
      ]
     },
     "execution_count": 20,
     "metadata": {},
     "output_type": "execute_result"
    }
   ],
   "source": [
    "juice"
   ]
  },
  {
   "cell_type": "code",
   "execution_count": 21,
   "id": "50385108",
   "metadata": {},
   "outputs": [
    {
     "data": {
      "text/plain": [
       "list"
      ]
     },
     "execution_count": 21,
     "metadata": {},
     "output_type": "execute_result"
    }
   ],
   "source": [
    "type(juice)"
   ]
  },
  {
   "cell_type": "code",
   "execution_count": 22,
   "id": "8991ec4b",
   "metadata": {},
   "outputs": [],
   "source": [
    "juice = [\"orange\",\"apple\",\"grape\"]\n"
   ]
  },
  {
   "cell_type": "code",
   "execution_count": 23,
   "id": "687cdbb3",
   "metadata": {},
   "outputs": [
    {
     "data": {
      "text/plain": [
       "False"
      ]
     },
     "execution_count": 23,
     "metadata": {},
     "output_type": "execute_result"
    }
   ],
   "source": [
    "\"mango\" in juice"
   ]
  },
  {
   "cell_type": "code",
   "execution_count": 24,
   "id": "63e3d177",
   "metadata": {},
   "outputs": [
    {
     "data": {
      "text/plain": [
       "True"
      ]
     },
     "execution_count": 24,
     "metadata": {},
     "output_type": "execute_result"
    }
   ],
   "source": [
    "\"grape\" in juice"
   ]
  },
  {
   "cell_type": "code",
   "execution_count": 25,
   "id": "310913cb",
   "metadata": {},
   "outputs": [
    {
     "data": {
      "text/plain": [
       "True"
      ]
     },
     "execution_count": 25,
     "metadata": {},
     "output_type": "execute_result"
    }
   ],
   "source": [
    "\"mango\" not in juice"
   ]
  },
  {
   "cell_type": "code",
   "execution_count": 26,
   "id": "ede78c5e",
   "metadata": {},
   "outputs": [
    {
     "data": {
      "text/plain": [
       "range(0, 5)"
      ]
     },
     "execution_count": 26,
     "metadata": {},
     "output_type": "execute_result"
    }
   ],
   "source": [
    "range(5)"
   ]
  },
  {
   "cell_type": "code",
   "execution_count": 27,
   "id": "a6e435f4",
   "metadata": {},
   "outputs": [
    {
     "data": {
      "text/plain": [
       "[0, 1, 2, 3, 4]"
      ]
     },
     "execution_count": 27,
     "metadata": {},
     "output_type": "execute_result"
    }
   ],
   "source": [
    "list(range(5))"
   ]
  },
  {
   "cell_type": "code",
   "execution_count": 29,
   "id": "9b43a1e1",
   "metadata": {},
   "outputs": [
    {
     "data": {
      "text/plain": [
       "[0, 1, 2, 3, 4, 5]"
      ]
     },
     "execution_count": 29,
     "metadata": {},
     "output_type": "execute_result"
    }
   ],
   "source": [
    "list(range(5+1))"
   ]
  },
  {
   "cell_type": "code",
   "execution_count": 30,
   "id": "8dc039bb",
   "metadata": {},
   "outputs": [
    {
     "data": {
      "text/plain": [
       "[2, 3, 4, 5, 6, 7]"
      ]
     },
     "execution_count": 30,
     "metadata": {},
     "output_type": "execute_result"
    }
   ],
   "source": [
    "list(range(2,8))"
   ]
  },
  {
   "cell_type": "code",
   "execution_count": 31,
   "id": "b383b43d",
   "metadata": {},
   "outputs": [
    {
     "data": {
      "text/plain": [
       "[0,\n",
       " 1,\n",
       " 2,\n",
       " 3,\n",
       " 4,\n",
       " 5,\n",
       " 6,\n",
       " 7,\n",
       " 8,\n",
       " 9,\n",
       " 10,\n",
       " 11,\n",
       " 12,\n",
       " 13,\n",
       " 14,\n",
       " 15,\n",
       " 16,\n",
       " 17,\n",
       " 18,\n",
       " 19,\n",
       " 20,\n",
       " 21,\n",
       " 22,\n",
       " 23,\n",
       " 24,\n",
       " 25,\n",
       " 26,\n",
       " 27,\n",
       " 28,\n",
       " 29,\n",
       " 30,\n",
       " 31,\n",
       " 32,\n",
       " 33,\n",
       " 34,\n",
       " 35,\n",
       " 36,\n",
       " 37,\n",
       " 38,\n",
       " 39,\n",
       " 40,\n",
       " 41,\n",
       " 42,\n",
       " 43,\n",
       " 44,\n",
       " 45,\n",
       " 46,\n",
       " 47,\n",
       " 48,\n",
       " 49,\n",
       " 50,\n",
       " 51,\n",
       " 52,\n",
       " 53,\n",
       " 54,\n",
       " 55,\n",
       " 56,\n",
       " 57,\n",
       " 58,\n",
       " 59,\n",
       " 60,\n",
       " 61,\n",
       " 62,\n",
       " 63,\n",
       " 64,\n",
       " 65,\n",
       " 66,\n",
       " 67,\n",
       " 68,\n",
       " 69,\n",
       " 70,\n",
       " 71,\n",
       " 72,\n",
       " 73,\n",
       " 74,\n",
       " 75,\n",
       " 76,\n",
       " 77,\n",
       " 78,\n",
       " 79,\n",
       " 80,\n",
       " 81,\n",
       " 82,\n",
       " 83,\n",
       " 84,\n",
       " 85,\n",
       " 86,\n",
       " 87,\n",
       " 88,\n",
       " 89,\n",
       " 90,\n",
       " 91,\n",
       " 92,\n",
       " 93,\n",
       " 94,\n",
       " 95,\n",
       " 96,\n",
       " 97,\n",
       " 98,\n",
       " 99]"
      ]
     },
     "execution_count": 31,
     "metadata": {},
     "output_type": "execute_result"
    }
   ],
   "source": [
    "list(range(100))"
   ]
  },
  {
   "cell_type": "code",
   "execution_count": 32,
   "id": "5240e131",
   "metadata": {},
   "outputs": [
    {
     "data": {
      "text/plain": [
       "[2, 5, 8, 11, 14, 17]"
      ]
     },
     "execution_count": 32,
     "metadata": {},
     "output_type": "execute_result"
    }
   ],
   "source": [
    "list(range(2,20,3))"
   ]
  },
  {
   "cell_type": "code",
   "execution_count": 34,
   "id": "1fd7cd50",
   "metadata": {},
   "outputs": [
    {
     "data": {
      "text/plain": [
       "[2, 4, 6, 8, 10, 12, 14, 16, 18]"
      ]
     },
     "execution_count": 34,
     "metadata": {},
     "output_type": "execute_result"
    }
   ],
   "source": [
    "list(range(2,20,2))"
   ]
  },
  {
   "cell_type": "code",
   "execution_count": 40,
   "id": "044a5d6e",
   "metadata": {},
   "outputs": [
    {
     "name": "stdout",
     "output_type": "stream",
     "text": [
      "[13, 14, 15, 16, 17, 18, 19]\n"
     ]
    }
   ],
   "source": [
    "teenager= list(range(13,19+1))\n",
    "print(teenager)"
   ]
  },
  {
   "cell_type": "code",
   "execution_count": 47,
   "id": "b7cf6981",
   "metadata": {},
   "outputs": [
    {
     "name": "stdout",
     "output_type": "stream",
     "text": [
      "i= 0\n",
      "i= 1\n",
      "i= 2\n",
      "i= 3\n",
      "i= 4\n"
     ]
    }
   ],
   "source": [
    "for i in list(range(5)):\n",
    "\n",
    "    print(\"i=\",i)\n",
    " "
   ]
  },
  {
   "cell_type": "code",
   "execution_count": 54,
   "id": "4bfa91c1",
   "metadata": {},
   "outputs": [
    {
     "name": "stdout",
     "output_type": "stream",
     "text": [
      "55\n"
     ]
    }
   ],
   "source": [
    "sum=0\n",
    "for i in range(11):\n",
    "    sum=sum+i\n",
    "print(sum)"
   ]
  },
  {
   "cell_type": "code",
   "execution_count": 58,
   "id": "414a44fd",
   "metadata": {},
   "outputs": [
    {
     "name": "stdout",
     "output_type": "stream",
     "text": [
      "i= 1 i= 3 i= 5 i= 7 i= 9 i= 11 i= 13 i= 15 i= 17 i= 19 i= 21 i= 23 i= 25 i= 27 i= 29 i= 31 i= 33 i= 35 i= 37 i= 39 i= 41 i= 43 i= 45 i= 47 i= 49 i= 51 i= 53 i= 55 i= 57 i= 59 i= 61 i= 63 i= 65 i= 67 i= 69 i= 71 i= 73 i= 75 i= 77 i= 79 i= 81 i= 83 i= 85 i= 87 i= 89 i= 91 i= 93 i= 95 i= 97 i= 99 "
     ]
    }
   ],
   "source": [
    "for i in range(1,101,2):\n",
    "    print(\"i=\",i, end=' ')"
   ]
  },
  {
   "cell_type": "code",
   "execution_count": 59,
   "id": "c9c8bd34",
   "metadata": {},
   "outputs": [
    {
     "name": "stdout",
     "output_type": "stream",
     "text": [
      "총점 = 517\n",
      "평균 = 86.16666666666667\n"
     ]
    }
   ],
   "source": [
    "array=[88,98,72,87,92,80]\n",
    "sum=0\n",
    "for score in array:\n",
    "    sum+=score      # sun=sum+score\n",
    "print(\"총점 = {}\".format(sum))\n",
    "print(\"평균 = {}\".format(sum/len(array)))\n",
    "      "
   ]
  },
  {
   "cell_type": "code",
   "execution_count": 60,
   "id": "05fa998d",
   "metadata": {},
   "outputs": [
    {
     "name": "stdout",
     "output_type": "stream",
     "text": [
      "0\n",
      "1\n",
      "2\n",
      "3\n",
      "4\n"
     ]
    }
   ],
   "source": [
    "for n in range(5):\n",
    "    print(n)"
   ]
  },
  {
   "cell_type": "code",
   "execution_count": 61,
   "id": "98d9f6d6",
   "metadata": {},
   "outputs": [
    {
     "name": "stdout",
     "output_type": "stream",
     "text": [
      "4\n",
      "3\n",
      "2\n",
      "1\n",
      "0\n"
     ]
    }
   ],
   "source": [
    "for n in reversed(range(5)):              # reversed는 반대로 뒤집어 준다.\n",
    "    print(n)"
   ]
  },
  {
   "cell_type": "code",
   "execution_count": 64,
   "id": "3d0f9ae1",
   "metadata": {},
   "outputs": [
    {
     "name": "stdout",
     "output_type": "stream",
     "text": [
      "딸기주스를 판매합니다\n",
      "사과주스를 판매합니다\n",
      "참외주스를 판매합니다\n",
      "바나나주스를 판매합니다\n",
      "0\n",
      "1\n",
      "2\n",
      "3\n"
     ]
    }
   ],
   "source": [
    "fruit=[\"딸기\",\"사과\",\"참외\",\"바나나\"]\n",
    "for iteam in fruit:\n",
    "    print('{}주스를 판매합니다'.format(iteam))\n",
    "for i in range(len(fruit)):\n",
    "    print(i)\n"
   ]
  },
  {
   "cell_type": "code",
   "execution_count": 70,
   "id": "02dfffea",
   "metadata": {},
   "outputs": [
    {
     "name": "stdout",
     "output_type": "stream",
     "text": [
      "0번째 요소는 사과\n",
      "1번째 요소는 포도\n",
      "2번째 요소는 딸기\n",
      "3번째 요소는 수박\n"
     ]
    }
   ],
   "source": [
    "fruit = ['사과', '포도', '딸기', '수박']\n",
    "for i in range(len(fruit)):\n",
    "        print(\"{}번째 요소는 {}\".format(i, fruit[i]))"
   ]
  },
  {
   "cell_type": "code",
   "execution_count": 72,
   "id": "5b6c1ef9",
   "metadata": {},
   "outputs": [
    {
     "name": "stdout",
     "output_type": "stream",
     "text": [
      "0번째 요소 : 사과\n",
      "1번째 요소 : 포도\n",
      "2번째 요소 : 딸기\n",
      "3번째 요소 : 수박\n"
     ]
    }
   ],
   "source": [
    "for i,iteam in enumerate (fruit):\n",
    "    print(\"{}번째 요소 : {}\".format(i,iteam))"
   ]
  },
  {
   "cell_type": "code",
   "execution_count": 73,
   "id": "dec31b3a",
   "metadata": {},
   "outputs": [
    {
     "name": "stdout",
     "output_type": "stream",
     "text": [
      "black : 5\n",
      "blue : 4\n",
      "yellow : 6\n",
      "red : 3\n"
     ]
    }
   ],
   "source": [
    "colors = ['black','blue','yellow','red']\n",
    "for color in colors:\n",
    "    print('{} : {}'.format(color,len(color)))"
   ]
  },
  {
   "cell_type": "code",
   "execution_count": 74,
   "id": "b5818f55",
   "metadata": {},
   "outputs": [
    {
     "name": "stdout",
     "output_type": "stream",
     "text": [
      "안녕,파이썬!\n",
      "안녕,파이썬!\n",
      "안녕,파이썬!\n",
      "안녕,파이썬!\n",
      "안녕,파이썬!\n"
     ]
    }
   ],
   "source": [
    "for n in range(5):\n",
    "    print(\"안녕,파이썬!\")"
   ]
  },
  {
   "cell_type": "code",
   "execution_count": 81,
   "id": "200eec3b",
   "metadata": {},
   "outputs": [
    {
     "name": "stdout",
     "output_type": "stream",
     "text": [
      "Shinhan University"
     ]
    }
   ],
   "source": [
    "for n in \"Shinhan University\":\n",
    "    print(n, end=\"\")"
   ]
  },
  {
   "cell_type": "code",
   "execution_count": 83,
   "id": "c6e89591",
   "metadata": {},
   "outputs": [
    {
     "name": "stdout",
     "output_type": "stream",
     "text": [
      "5050\n"
     ]
    }
   ],
   "source": [
    "sum= 0\n",
    "for n in range(1,100+1):\n",
    "    sum+=n\n",
    "print(sum)"
   ]
  },
  {
   "cell_type": "code",
   "execution_count": 2,
   "id": "ad776922",
   "metadata": {},
   "outputs": [
    {
     "name": "stdout",
     "output_type": "stream",
     "text": [
      "첫번째 정수를 입력하세요 >60\n",
      "두번쨰 정수를 입력하세요 >30\n",
      "작은수=30,큰수=60\n",
      "30~60합 : 1395\n"
     ]
    }
   ],
   "source": [
    "num1=int(input(\"첫번째 정수를 입력하세요 >\"))\n",
    "num2=int(input(\"두번쨰 정수를 입력하세요 >\"))\n",
    "if num1 < num2:\n",
    "    num2,num1=num1,num2\n",
    "print(\"작은수={},큰수={}\".format(num2,num1))\n",
    "sum=0\n",
    "for n in range(num2,num1+1):\n",
    "    sum=sum+n\n",
    "print(\"{}~{}합 : {}\".format(num2,num1,sum))\n",
    "    "
   ]
  },
  {
   "cell_type": "code",
   "execution_count": 97,
   "id": "406d2ed5",
   "metadata": {},
   "outputs": [
    {
     "name": "stdout",
     "output_type": "stream",
     "text": [
      "정수:3\n",
      "3!=6\n"
     ]
    }
   ],
   "source": [
    "n= int(input(\"정수:\"))\n",
    "fact=1\n",
    "for i in range (1,n+1):\n",
    "    fact=fact*i\n",
    "print(\"{}!={}\".format(n,fact))"
   ]
  },
  {
   "cell_type": "code",
   "execution_count": 96,
   "id": "84c20302",
   "metadata": {},
   "outputs": [
    {
     "name": "stdout",
     "output_type": "stream",
     "text": [
      "1:홀수\n",
      "2:짝수\n",
      "3:홀수\n",
      "4:짝수\n",
      "5:홀수\n",
      "6:짝수\n",
      "7:홀수\n",
      "8:짝수\n",
      "9:홀수\n",
      "10:짝수\n"
     ]
    }
   ],
   "source": [
    "for n in range(1,11):\n",
    "    if n%2==0:\n",
    "        print(\"{}:짝수\".format(n))\n",
    "    else:\n",
    "        print(\"{}:홀수\".format(n))"
   ]
  },
  {
   "cell_type": "code",
   "execution_count": 106,
   "id": "d266cf8d",
   "metadata": {
    "scrolled": true
   },
   "outputs": [
    {
     "name": "stdout",
     "output_type": "stream",
     "text": [
      "maximun number=65\n"
     ]
    }
   ],
   "source": [
    "a= [14,37,65,29,32,43,56]\n",
    "max = a[0]\n",
    "for i in range(1,7):\n",
    "    if max < a[i]:\n",
    "        max = a[i]\n",
    "print(\"maximun number={}\".format(max))"
   ]
  },
  {
   "cell_type": "code",
   "execution_count": null,
   "id": "006d1b52",
   "metadata": {},
   "outputs": [],
   "source": [
    "n = int(input('정수를 입력 >'))\n",
    "for i in range (1,n+1):\n",
    "    if n % i == 0:\n",
    "         print(i,end = ' ')"
   ]
  },
  {
   "cell_type": "code",
   "execution_count": 1,
   "id": "2b6383fc",
   "metadata": {},
   "outputs": [
    {
     "name": "stdout",
     "output_type": "stream",
     "text": [
      "정수를 입력 >40\n",
      "약수의 개수:  8\n",
      "40 은 소수가 아님\n"
     ]
    }
   ],
   "source": [
    "n = int(input('정수를 입력 >'))\n",
    "count = 0\n",
    "for i in range (1,n+1):\n",
    "    if n % i == 0:\n",
    "        count=count+1\n",
    "print('약수의 개수: ',count)\n",
    "if count==2:\n",
    "    print(n,'은 소수')\n",
    "else:\n",
    "    print(n,\"은 소수가 아님\")"
   ]
  },
  {
   "cell_type": "code",
   "execution_count": 3,
   "id": "6aea96ad",
   "metadata": {},
   "outputs": [
    {
     "name": "stdout",
     "output_type": "stream",
     "text": [
      "정수를 입력 >30\n",
      "약수의 개수: 8\n"
     ]
    }
   ],
   "source": [
    "n = int (input('정수를 입력 >'))\n",
    "a= []\n",
    "for i in range(1,n+1):\n",
    "    if n%i==0:\n",
    "        a.append(i)\n",
    "print('약수의 개수:',len(a))\n"
   ]
  },
  {
   "cell_type": "code",
   "execution_count": 4,
   "id": "16a55871",
   "metadata": {},
   "outputs": [
    {
     "name": "stdout",
     "output_type": "stream",
     "text": [
      "구구단 3단\n",
      "3X1 = 3\n",
      "3X2 = 6\n",
      "3X3 = 9\n",
      "3X4 = 12\n",
      "3X5 = 15\n",
      "3X6 = 18\n",
      "3X7 = 21\n",
      "3X8 = 24\n",
      "3X9 = 27\n"
     ]
    }
   ],
   "source": [
    "dan=3\n",
    "print(\"구구단 3단\")\n",
    "for i in range (1,9+1):\n",
    "    print(\"{}X{} = {}\".format(dan,i,dan*i))\n",
    "    "
   ]
  },
  {
   "cell_type": "code",
   "execution_count": 15,
   "id": "7f39dc87",
   "metadata": {},
   "outputs": [
    {
     "name": "stdout",
     "output_type": "stream",
     "text": [
      "단을 입력하세요 > 2\n",
      "== 2  단==\n",
      "2X1=2\n",
      "2X2=4\n",
      "2X3=6\n",
      "2X4=8\n",
      "2X5=10\n",
      "2X6=12\n",
      "2X7=14\n",
      "2X8=16\n",
      "2X9=18\n"
     ]
    }
   ],
   "source": [
    "dan=int(input('단을 입력하세요 > '))\n",
    "print(\"==\",dan,\" 단==\")\n",
    "t=[]\n",
    "for t in range(1,10):\n",
    "    print(\"{}X{}={}\".format(dan,t,dan*t))"
   ]
  },
  {
   "cell_type": "code",
   "execution_count": 14,
   "id": "7b7bf99f",
   "metadata": {},
   "outputs": [
    {
     "name": "stdout",
     "output_type": "stream",
     "text": [
      "== 2 단 ==\n",
      "2X1 = 2\n",
      "2X2 = 4\n",
      "2X3 = 6\n",
      "2X4 = 8\n",
      "2X5 = 10\n",
      "2X6 = 12\n",
      "2X7 = 14\n",
      "2X8 = 16\n",
      "2X9 = 18\n",
      "== 3 단 ==\n",
      "3X1 = 3\n",
      "3X2 = 6\n",
      "3X3 = 9\n",
      "3X4 = 12\n",
      "3X5 = 15\n",
      "3X6 = 18\n",
      "3X7 = 21\n",
      "3X8 = 24\n",
      "3X9 = 27\n",
      "== 4 단 ==\n",
      "4X1 = 4\n",
      "4X2 = 8\n",
      "4X3 = 12\n",
      "4X4 = 16\n",
      "4X5 = 20\n",
      "4X6 = 24\n",
      "4X7 = 28\n",
      "4X8 = 32\n",
      "4X9 = 36\n",
      "== 5 단 ==\n",
      "5X1 = 5\n",
      "5X2 = 10\n",
      "5X3 = 15\n",
      "5X4 = 20\n",
      "5X5 = 25\n",
      "5X6 = 30\n",
      "5X7 = 35\n",
      "5X8 = 40\n",
      "5X9 = 45\n",
      "== 6 단 ==\n",
      "6X1 = 6\n",
      "6X2 = 12\n",
      "6X3 = 18\n",
      "6X4 = 24\n",
      "6X5 = 30\n",
      "6X6 = 36\n",
      "6X7 = 42\n",
      "6X8 = 48\n",
      "6X9 = 54\n",
      "== 7 단 ==\n",
      "7X1 = 7\n",
      "7X2 = 14\n",
      "7X3 = 21\n",
      "7X4 = 28\n",
      "7X5 = 35\n",
      "7X6 = 42\n",
      "7X7 = 49\n",
      "7X8 = 56\n",
      "7X9 = 63\n",
      "== 8 단 ==\n",
      "8X1 = 8\n",
      "8X2 = 16\n",
      "8X3 = 24\n",
      "8X4 = 32\n",
      "8X5 = 40\n",
      "8X6 = 48\n",
      "8X7 = 56\n",
      "8X8 = 64\n",
      "8X9 = 72\n",
      "== 9 단 ==\n",
      "9X1 = 9\n",
      "9X2 = 18\n",
      "9X3 = 27\n",
      "9X4 = 36\n",
      "9X5 = 45\n",
      "9X6 = 54\n",
      "9X7 = 63\n",
      "9X8 = 72\n",
      "9X9 = 81\n"
     ]
    }
   ],
   "source": [
    "dan=[]\n",
    "for dan in range (2,10):\n",
    "    print(\"==\",dan,\"단 ==\")\n",
    "    for i in range (1,9+1):\n",
    "          print(\"{}X{} = {}\".format(dan,i,dan*i)) "
   ]
  },
  {
   "cell_type": "code",
   "execution_count": 23,
   "id": "d2c155bd",
   "metadata": {},
   "outputs": [
    {
     "name": "stdout",
     "output_type": "stream",
     "text": [
      "정수를 입력하시오 >13\n",
      "13은 소수 입니다.\n"
     ]
    }
   ],
   "source": [
    "n=int(input('정수를 입력하시오 >'))\n",
    "flag = True\n",
    "for i in range(2,n):\n",
    "    if n % i == 0:\n",
    "        flag = False\n",
    "        break;\n",
    "if flag:\n",
    "    print(\"{}은 소수 입니다.\". format(n))\n",
    "else:\n",
    "    print(\"{}은 소수가 아닙니다.\".format(n))"
   ]
  },
  {
   "cell_type": "code",
   "execution_count": 27,
   "id": "ceb59cc4",
   "metadata": {},
   "outputs": [
    {
     "name": "stdout",
     "output_type": "stream",
     "text": [
      "1 1 2 3 5 8 13 21 34 55 89 "
     ]
    }
   ],
   "source": [
    "k=[1,1]\n",
    "for n in range (2,11):\n",
    "    kn= k[n-2]+k[n-1]\n",
    "    k.append(kn)\n",
    "for n in k:\n",
    "    print('{}'.format(n),end= ' ')"
   ]
  },
  {
   "cell_type": "code",
   "execution_count": null,
   "id": "c63d103c",
   "metadata": {},
   "outputs": [],
   "source": []
  }
 ],
 "metadata": {
  "kernelspec": {
   "display_name": "Python 3 (ipykernel)",
   "language": "python",
   "name": "python3"
  },
  "language_info": {
   "codemirror_mode": {
    "name": "ipython",
    "version": 3
   },
   "file_extension": ".py",
   "mimetype": "text/x-python",
   "name": "python",
   "nbconvert_exporter": "python",
   "pygments_lexer": "ipython3",
   "version": "3.9.7"
  }
 },
 "nbformat": 4,
 "nbformat_minor": 5
}
